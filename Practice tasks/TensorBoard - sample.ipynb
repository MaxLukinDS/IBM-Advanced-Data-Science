{
    "cells": [
        {
            "cell_type": "code",
            "execution_count": 1,
            "metadata": {},
            "outputs": [
                {
                    "name": "stdout",
                    "output_type": "stream",
                    "text": "\u001b[33mWARNING: Skipping tensorflow-tensorboard as it is not installed.\u001b[0m\r\n"
                }
            ],
            "source": "!pip uninstall tensorflow-tensorboard"
        },
        {
            "cell_type": "code",
            "execution_count": 2,
            "metadata": {},
            "outputs": [
                {
                    "name": "stdout",
                    "output_type": "stream",
                    "text": "Requirement already satisfied: tensorboard in /opt/conda/envs/Python36/lib/python3.6/site-packages (2.1.0)\nRequirement already satisfied: markdown>=2.6.8 in /opt/conda/envs/Python36/lib/python3.6/site-packages (from tensorboard) (3.0.1)\nRequirement already satisfied: requests<3,>=2.21.0 in /opt/conda/envs/Python36/lib/python3.6/site-packages (from tensorboard) (2.21.0)\nRequirement already satisfied: setuptools>=41.0.0 in /opt/conda/envs/Python36/lib/python3.6/site-packages (from tensorboard) (45.1.0)\nRequirement already satisfied: google-auth-oauthlib<0.5,>=0.4.1 in /opt/conda/envs/Python36/lib/python3.6/site-packages (from tensorboard) (0.4.1)\nRequirement already satisfied: six>=1.10.0 in /opt/conda/envs/Python36/lib/python3.6/site-packages (from tensorboard) (1.12.0)\nRequirement already satisfied: werkzeug>=0.11.15 in /opt/conda/envs/Python36/lib/python3.6/site-packages (from tensorboard) (0.14.1)\nRequirement already satisfied: protobuf>=3.6.0 in /opt/conda/envs/Python36/lib/python3.6/site-packages (from tensorboard) (3.6.1)\nRequirement already satisfied: google-auth<2,>=1.6.3 in /opt/conda/envs/Python36/lib/python3.6/site-packages (from tensorboard) (1.11.0)\nRequirement already satisfied: wheel>=0.26; python_version >= \"3\" in /opt/conda/envs/Python36/lib/python3.6/site-packages (from tensorboard) (0.32.3)\nRequirement already satisfied: absl-py>=0.4 in /opt/conda/envs/Python36/lib/python3.6/site-packages (from tensorboard) (0.7.0)\nRequirement already satisfied: numpy>=1.12.0 in /opt/conda/envs/Python36/lib/python3.6/site-packages (from tensorboard) (1.15.4)\nRequirement already satisfied: grpcio>=1.24.3 in /opt/conda/envs/Python36/lib/python3.6/site-packages (from tensorboard) (1.26.0)\nRequirement already satisfied: chardet<3.1.0,>=3.0.2 in /opt/conda/envs/Python36/lib/python3.6/site-packages (from requests<3,>=2.21.0->tensorboard) (3.0.4)\nRequirement already satisfied: idna<2.9,>=2.5 in /opt/conda/envs/Python36/lib/python3.6/site-packages (from requests<3,>=2.21.0->tensorboard) (2.8)\nRequirement already satisfied: urllib3<1.25,>=1.21.1 in /opt/conda/envs/Python36/lib/python3.6/site-packages (from requests<3,>=2.21.0->tensorboard) (1.24.1)\nRequirement already satisfied: certifi>=2017.4.17 in /opt/conda/envs/Python36/lib/python3.6/site-packages (from requests<3,>=2.21.0->tensorboard) (2019.11.28)\nRequirement already satisfied: requests-oauthlib>=0.7.0 in /opt/conda/envs/Python36/lib/python3.6/site-packages (from google-auth-oauthlib<0.5,>=0.4.1->tensorboard) (1.3.0)\nRequirement already satisfied: cachetools<5.0,>=2.0.0 in /opt/conda/envs/Python36/lib/python3.6/site-packages (from google-auth<2,>=1.6.3->tensorboard) (4.0.0)\nRequirement already satisfied: pyasn1-modules>=0.2.1 in /opt/conda/envs/Python36/lib/python3.6/site-packages (from google-auth<2,>=1.6.3->tensorboard) (0.2.8)\nRequirement already satisfied: rsa<4.1,>=3.1.4 in /opt/conda/envs/Python36/lib/python3.6/site-packages (from google-auth<2,>=1.6.3->tensorboard) (4.0)\nRequirement already satisfied: oauthlib>=3.0.0 in /opt/conda/envs/Python36/lib/python3.6/site-packages (from requests-oauthlib>=0.7.0->google-auth-oauthlib<0.5,>=0.4.1->tensorboard) (3.1.0)\nRequirement already satisfied: pyasn1<0.5.0,>=0.4.6 in /opt/conda/envs/Python36/lib/python3.6/site-packages (from pyasn1-modules>=0.2.1->google-auth<2,>=1.6.3->tensorboard) (0.4.8)\n"
                }
            ],
            "source": "!pip install tensorboard"
        },
        {
            "cell_type": "code",
            "execution_count": 3,
            "metadata": {},
            "outputs": [],
            "source": "%load_ext tensorboard"
        },
        {
            "cell_type": "code",
            "execution_count": 4,
            "metadata": {},
            "outputs": [
                {
                    "name": "stdout",
                    "output_type": "stream",
                    "text": "2.1.0\n1.13.1\n"
                }
            ],
            "source": "from tensorboard import version; print(version.VERSION)\nimport tensorflow as tf; print(tf.__version__)"
        },
        {
            "cell_type": "code",
            "execution_count": 5,
            "metadata": {},
            "outputs": [],
            "source": "import tensorflow as tf\nimport datetime"
        },
        {
            "cell_type": "code",
            "execution_count": 6,
            "metadata": {},
            "outputs": [],
            "source": "mnist = tf.keras.datasets.mnist\n\n(x_train, y_train),(x_test, y_test) = mnist.load_data()\nx_train, x_test = x_train / 255.0, x_test / 255.0\n\ndef create_model():\n  return tf.keras.models.Sequential([\n    tf.keras.layers.Flatten(input_shape=(28, 28)),\n    tf.keras.layers.Dense(512, activation='relu'),\n    tf.keras.layers.Dropout(0.2),\n    tf.keras.layers.Dense(10, activation='softmax')\n  ])"
        },
        {
            "cell_type": "code",
            "execution_count": 7,
            "metadata": {},
            "outputs": [
                {
                    "name": "stdout",
                    "output_type": "stream",
                    "text": "WARNING:tensorflow:From /opt/conda/envs/Python36/lib/python3.6/site-packages/tensorflow/python/ops/resource_variable_ops.py:435: colocate_with (from tensorflow.python.framework.ops) is deprecated and will be removed in a future version.\nInstructions for updating:\nColocations handled automatically by placer.\nWARNING:tensorflow:From /opt/conda/envs/Python36/lib/python3.6/site-packages/tensorflow/python/keras/layers/core.py:143: calling dropout (from tensorflow.python.ops.nn_ops) with keep_prob is deprecated and will be removed in a future version.\nInstructions for updating:\nPlease use `rate` instead of `keep_prob`. Rate should be set to `rate = 1 - keep_prob`.\nTrain on 60000 samples, validate on 10000 samples\nEpoch 1/5\n60000/60000 [==============================] - 114s 2ms/sample - loss: 0.2212 - acc: 0.9339 - val_loss: 0.1162 - val_acc: 0.9641\nEpoch 2/5\n60000/60000 [==============================] - 113s 2ms/sample - loss: 0.0984 - acc: 0.9699 - val_loss: 0.0757 - val_acc: 0.9754\nEpoch 3/5\n60000/60000 [==============================] - 120s 2ms/sample - loss: 0.0682 - acc: 0.9792 - val_loss: 0.0682 - val_acc: 0.9777\nEpoch 4/5\n60000/60000 [==============================] - 123s 2ms/sample - loss: 0.0544 - acc: 0.9826 - val_loss: 0.0662 - val_acc: 0.9798\nEpoch 5/5\n60000/60000 [==============================] - 108s 2ms/sample - loss: 0.0421 - acc: 0.9860 - val_loss: 0.0650 - val_acc: 0.9808\n"
                },
                {
                    "data": {
                        "text/plain": "<tensorflow.python.keras.callbacks.History at 0x7fc1eade7a90>"
                    },
                    "execution_count": 7,
                    "metadata": {},
                    "output_type": "execute_result"
                }
            ],
            "source": "model = create_model()\nmodel.compile(optimizer='adam',\n              loss='sparse_categorical_crossentropy',\n              metrics=['accuracy'])\n\nlog_dir=\"logs/fit/\" + datetime.datetime.now().strftime(\"%Y%m%d-%H%M%S\")\ntensorboard_callback = tf.keras.callbacks.TensorBoard(log_dir=log_dir, histogram_freq=1)\n\nmodel.fit(x=x_train, \n          y=y_train, \n          epochs=5, \n          validation_data=(x_test, y_test), \n          callbacks=[tensorboard_callback])"
        },
        {
            "cell_type": "code",
            "execution_count": 8,
            "metadata": {},
            "outputs": [
                {
                    "data": {
                        "text/plain": "Reusing TensorBoard on port 6006 (pid 437), started 0:26:25 ago. (Use '!kill 437' to kill it.)"
                    },
                    "metadata": {},
                    "output_type": "display_data"
                },
                {
                    "data": {
                        "text/html": "\n      <iframe id=\"tensorboard-frame-ff0c39117904e93f\" width=\"100%\" height=\"800\" frameborder=\"0\">\n      </iframe>\n      <script>\n        (function() {\n          const frame = document.getElementById(\"tensorboard-frame-ff0c39117904e93f\");\n          const url = new URL(\"/\", window.location);\n          url.port = 6006;\n          frame.src = url;\n        })();\n      </script>\n  ",
                        "text/plain": "<IPython.core.display.HTML object>"
                    },
                    "metadata": {},
                    "output_type": "display_data"
                }
            ],
            "source": "%tensorboard --logdir logs/fit"
        },
        {
            "cell_type": "code",
            "execution_count": null,
            "metadata": {},
            "outputs": [],
            "source": ""
        }
    ],
    "metadata": {
        "kernelspec": {
            "display_name": "Python 3.6",
            "language": "python",
            "name": "python3"
        },
        "language_info": {
            "codemirror_mode": {
                "name": "ipython",
                "version": 3
            },
            "file_extension": ".py",
            "mimetype": "text/x-python",
            "name": "python",
            "nbconvert_exporter": "python",
            "pygments_lexer": "ipython3",
            "version": "3.6.9"
        }
    },
    "nbformat": 4,
    "nbformat_minor": 1
}